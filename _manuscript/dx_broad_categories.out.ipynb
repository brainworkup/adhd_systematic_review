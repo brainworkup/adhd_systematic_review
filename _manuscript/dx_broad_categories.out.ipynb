{
 "cells": [
  {
   "cell_type": "markdown",
   "metadata": {},
   "source": [
    "# Categorization of Diagnostic Tools\n",
    "\n",
    "## Clinical Rating Scales and Diagnostic Interviews (41 studies)\n",
    "\n",
    "These include standardized questionnaires, structured interviews, and behavioral rating scales used by clinicians, such as: - Adult ADHD Self-Report Scale (ASRS) - Conners’ Adult ADHD Diagnostic Interview - Wender Utah Rating Scale - WHO Adult ADHD Self-Report Screening Scale - MINI International Neuropsychiatric Interview\n",
    "\n",
    "## Neuropsychological and Cognitive Tests (32 studies)\n",
    "\n",
    "Including measures of attention, executive function, and processing speed: - Continuous Performance Tests (CPT) - Test of Variables of Attention (TOVA) - Woodcock-Johnson Tests - Rey-Osterrieth Complex Figure Test - Stroop Color and Word Test\n",
    "\n",
    "## Neuroimaging Studies (15 studies)\n",
    "\n",
    "Including various brain imaging techniques: - Functional MRI (fMRI) - Structural MRI - SPECT imaging - Regional homogeneity analysis - Machine learning applications to neuroimaging data\n",
    "\n",
    "## EEG/Electrophysiological Measures (14 studies)\n",
    "\n",
    "Including various forms of brain electrical activity measurement: - Standard EEG analysis - Event-Related Potentials (ERP) - Quantitative EEG - Network-oriented EEG analysis - Machine learning applications to EEG data\n",
    "\n",
    "## Biomarkers (8 studies)\n",
    "\n",
    "Including biological and biochemical measures: - Blood-based markers - Oxidative status measures - Erythropoietin levels - microRNA profiles - Membrane potential measurements\n",
    "\n",
    "## Performance Validity/Effort Testing (6 studies)\n",
    "\n",
    "Specialized measures to detect feigned symptoms: - Personality Assessment Inventory - Embedded validity indicators - Symptom validity tests - ADHD-specific malingering scales"
   ],
   "id": "2fa421ed-98c6-4320-88ab-58723306b479"
  },
  {
   "cell_type": "raw",
   "metadata": {
    "raw_mimetype": "text/html"
   },
   "source": [
    "<!-- I'd like to note that some studies used multiple measurement types or combined approaches (for example, EEG with clinical measures, or neuropsychological testing with rating scales). In these cases, I categorized them based on their primary measurement approach. Additionally, there appears to be a growing trend toward using machine learning techniques to analyze data across multiple measurement types. -->"
   ],
   "id": "341aa828-8c5a-464f-8cce-7bf152dce19e"
  }
 ],
 "nbformat": 4,
 "nbformat_minor": 5,
 "metadata": {}
}
