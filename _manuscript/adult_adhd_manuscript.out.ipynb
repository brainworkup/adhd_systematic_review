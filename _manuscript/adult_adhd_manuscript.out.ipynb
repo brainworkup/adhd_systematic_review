{
 "cells": [
  {
   "cell_type": "markdown",
   "metadata": {},
   "source": [
    "# \n",
    "\n",
    "# Manuscript for Adult ADHD Systematic Review\n",
    "\n",
    "## Domains\n",
    "\n",
    "### Rating scales/semi-structured Interviews\n",
    "\n",
    "### Neuropsychological Tests\n",
    "\n",
    "### Performance validity/symptom exaggeration\n",
    "\n",
    "### Neuroimaging\n",
    "\n",
    "### Biomarkers\n",
    "\n",
    "## Structure of manuscript\n",
    "\n",
    "### Introduction\n",
    "\n",
    "### Methods\n",
    "\n",
    "### Results\n",
    "\n",
    "### Discussion\n",
    "\n",
    "## Analysis\n",
    "\n",
    "### R code"
   ],
   "id": "59b3ad77-3bf3-442d-969b-44a2fb0a4bfc"
  }
 ],
 "nbformat": 4,
 "nbformat_minor": 5,
 "metadata": {}
}
