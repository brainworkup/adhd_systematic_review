{
 "cells": [
  {
   "cell_type": "markdown",
   "metadata": {},
   "source": [
    "# Untitled\n",
    "\n",
    "# Table 1: CPT Study Characteristics and Methodological Features\n",
    "\n",
    "| Study ID | Test Type | N Total | ADHD n | Control n | Age (M±SD) | Setting | Study Design | Comparison Groups | Reference Standard |\n",
    "|------|-------|------|------|-------|-------|------|--------|----------|-----------|\n",
    "| Edebol 2013 | QbTest+ | 69 | 45 | 24 | 33±9.9 | Specialist | Diagnostic | ADHD vs Controls | Clinical diagnosis |\n",
    "| Hult 2018 | QbTest | 182 | 124 | 58 | NR | Clinical | Case-control | ADHD vs ASD | DSM-5 criteria |\n",
    "| Berger 2021 | MOXO-d | NR | NR | NR | College-age | Research | Simulation | ADHD vs Controls vs Simulators | Clinical diagnosis |\n",
    "| Solanto 2004 | Conners CPT | NR | NR | NR | Adult | Clinical | Diagnostic | ADHD vs Clinical controls | DSM-IV criteria |\n",
    "\n",
    "# Table 2: CPT Diagnostic Performance Metrics\n",
    "\n",
    "| Study ID | Test Type | Sensitivity % (95% CI) | Specificity % (95% CI) | PPV | NPV | AUC (95% CI) | Cut-off Score | Parameters Used |\n",
    "|------|-------|-------------|-------------|----|----|---------|---------|----------|\n",
    "| Edebol 2013 | QbTest+ | 86 (NR) | 83 (NR) | NR | NR | NR | ≥1.5 | Q-score composite |\n",
    "| Hult 2018 | QbTest | 47-67 (NR) | 72-84 (NR) | NR | NR | NR | NR | Inattention & hyperactivity |\n",
    "| Berger 2021 | MOXO-d | Go: 86 (NR) NoGo: 76 (NR) | Go: 95 (NR) NoGo: 91 (NR) | NR | NR | 0.84-0.92 | NR | Multiple indices |\n",
    "| Solanto 2004 | Conners CPT | NR | NR | NR | NR | NR | T\\>65 | Multiple indices |\n",
    "\n",
    "Notes: - NR = Not Reported - CI = Confidence Interval - PPV = Positive Predictive Value - NPV = Negative Predictive Value - AUC = Area Under Curve"
   ],
   "id": "7be3f6e0-099b-47ce-bdbc-2d6d867ddbba"
  }
 ],
 "nbformat": 4,
 "nbformat_minor": 5,
 "metadata": {}
}
